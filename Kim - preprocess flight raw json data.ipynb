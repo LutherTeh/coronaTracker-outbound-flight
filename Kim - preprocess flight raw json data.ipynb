{
 "cells": [
  {
   "cell_type": "markdown",
   "metadata": {},
   "source": [
    "# Wuhan Outbound Flights - data preprocessing\n",
    "\n",
    "**Objective**: to visualize the outbound flight and enable in-depth analysis\n",
    "\n",
    "**Data source**: history.adsbexchange.com \n",
    "\n",
    "https://history.adsbexchange.com/downloads/samples/\n",
    "\n",
    "\n",
    "\n",
    "**DataDictionary**: https://history.adsbexchange.com/datafields/\n",
    "\n",
    "\n",
    "**Data**: **1st Jan 2020 only** outbound of Wuhan Tianhe Airport (WUH) ( other date will be added in later)\n",
    "\n"
   ]
  },
  {
   "cell_type": "code",
   "execution_count": 35,
   "metadata": {},
   "outputs": [],
   "source": [
    "import time\n",
    "import re\n",
    "import numpy as np\n",
    "import pandas as pd\n",
    "import pickle as pkl\n",
    "import math\n",
    "import json\n",
    "import warnings\n",
    "import json\n",
    "import os\n",
    "import datetime\n",
    "pd.set_option('display.max_columns',300)\n",
    "pd.set_option('display.max_rows',300)\n",
    "warnings.filterwarnings('ignore')"
   ]
  },
  {
   "cell_type": "code",
   "execution_count": null,
   "metadata": {},
   "outputs": [],
   "source": []
  },
  {
   "cell_type": "markdown",
   "metadata": {},
   "source": [
    "## read data"
   ]
  },
  {
   "cell_type": "code",
   "execution_count": 9,
   "metadata": {},
   "outputs": [
    {
     "name": "stdout",
     "output_type": "stream",
     "text": [
      "Wall time: 1.12 s\n"
     ]
    }
   ],
   "source": [
    "%%time\n",
    "filename = '2020-01-01/2020-01-01-0000Z.json'\n",
    "\n",
    "f = open(filename, 'rb')\n",
    "json_file = json.load(f)\n",
    "f.close()\n"
   ]
  },
  {
   "cell_type": "code",
   "execution_count": null,
   "metadata": {},
   "outputs": [],
   "source": [
    "%%time\n",
    "\n",
    "## load all json file from a directory\n",
    "\n",
    "all_json_file = []\n",
    "JSON_DIR = '2020-01-01'\n",
    "\n",
    "for file in os.listdir(JSON_DIR):\n",
    "    full_filename = \"%s/%s\" % (JSON_DIR, file)\n",
    "    with open(full_filename,'rb') as f:\n",
    "        json_file = json.load(f)\n",
    "        all_json_file.append(json_file)\n",
    "        \n",
    "        \n",
    "## take 26 mins on 16GB RAM, i9 machine,  to load all 1440 json file ( 18 GB size)        "
   ]
  },
  {
   "cell_type": "code",
   "execution_count": null,
   "metadata": {},
   "outputs": [],
   "source": []
  },
  {
   "cell_type": "code",
   "execution_count": null,
   "metadata": {},
   "outputs": [],
   "source": []
  },
  {
   "cell_type": "code",
   "execution_count": 32,
   "metadata": {
    "collapsed": true
   },
   "outputs": [
    {
     "data": {
      "text/plain": [
       "{'Id': 10969128,\n",
       " 'Rcvr': 11159,\n",
       " 'HasSig': True,\n",
       " 'Sig': 10,\n",
       " 'Icao': 'A76028',\n",
       " 'Bad': False,\n",
       " 'Reg': 'N57439',\n",
       " 'FSeen': '/Date(1577836821438)/',\n",
       " 'CMsgs': 1,\n",
       " 'Alt': 17125,\n",
       " 'GAlt': 17125,\n",
       " 'AltT': 0,\n",
       " 'Tisb': False,\n",
       " 'TrkH': False,\n",
       " 'Type': 'B739',\n",
       " 'Mdl': 'Boeing 737NG 924ER/W',\n",
       " 'Man': 'Boeing',\n",
       " 'CNum': '33534',\n",
       " 'Op': 'United Airlines',\n",
       " 'OpIcao': 'UAL',\n",
       " 'Sqk': '',\n",
       " 'VsiT': 0,\n",
       " 'WTC': 2,\n",
       " 'Species': 1,\n",
       " 'Engines': '2',\n",
       " 'EngType': 3,\n",
       " 'EngMount': 0,\n",
       " 'Mil': False,\n",
       " 'Cou': 'United States',\n",
       " 'HasPic': False,\n",
       " 'Interested': False,\n",
       " 'FlightsCount': 0,\n",
       " 'Gnd': False,\n",
       " 'SpdTyp': 0,\n",
       " 'CallSus': False,\n",
       " 'TT': 'a',\n",
       " 'Trt': 1,\n",
       " 'Year': '2009'}"
      ]
     },
     "execution_count": 32,
     "metadata": {},
     "output_type": "execute_result"
    }
   ],
   "source": [
    "## sample json data\n",
    "\n",
    "json_file['acList'][0]"
   ]
  },
  {
   "cell_type": "code",
   "execution_count": null,
   "metadata": {},
   "outputs": [],
   "source": [
    "## create dataframe from json data\n",
    "\n",
    "df = pd.DataFrame(all_json_file['acList']) \n"
   ]
  },
  {
   "cell_type": "code",
   "execution_count": null,
   "metadata": {},
   "outputs": [],
   "source": [
    "df.head()"
   ]
  },
  {
   "cell_type": "code",
   "execution_count": null,
   "metadata": {},
   "outputs": [],
   "source": [
    "## save file\n",
    "df.to_csv('data/2020-01-01.csv', index = false)"
   ]
  },
  {
   "cell_type": "code",
   "execution_count": null,
   "metadata": {},
   "outputs": [],
   "source": []
  },
  {
   "cell_type": "code",
   "execution_count": null,
   "metadata": {},
   "outputs": [],
   "source": []
  },
  {
   "cell_type": "code",
   "execution_count": null,
   "metadata": {},
   "outputs": [],
   "source": []
  }
 ],
 "metadata": {
  "kernelspec": {
   "display_name": "Python 3",
   "language": "python",
   "name": "python3"
  },
  "language_info": {
   "codemirror_mode": {
    "name": "ipython",
    "version": 3
   },
   "file_extension": ".py",
   "mimetype": "text/x-python",
   "name": "python",
   "nbconvert_exporter": "python",
   "pygments_lexer": "ipython3",
   "version": "3.7.4"
  }
 },
 "nbformat": 4,
 "nbformat_minor": 4
}
